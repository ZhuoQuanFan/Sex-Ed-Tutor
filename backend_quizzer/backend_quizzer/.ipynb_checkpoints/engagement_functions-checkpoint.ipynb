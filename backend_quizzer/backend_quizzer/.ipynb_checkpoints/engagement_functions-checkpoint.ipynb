{
 "cells": [
  {
   "cell_type": "code",
   "execution_count": null,
   "id": "e25a4c49",
   "metadata": {},
   "outputs": [],
   "source": [
    "import os\n",
    "import time\n",
    "import numpy as np\n",
    "import matplotlib.pyplot as plt\n",
    "import re"
   ]
  },
  {
   "cell_type": "code",
   "execution_count": null,
   "id": "f632db5a",
   "metadata": {},
   "outputs": [],
   "source": [
    "# Preprocess GUI image"
   ]
  },
  {
   "cell_type": "code",
   "execution_count": null,
   "id": "77cfb9f7",
   "metadata": {},
   "outputs": [],
   "source": [
    "# Scoring palette in terms of style"
   ]
  },
  {
   "cell_type": "code",
   "execution_count": null,
   "id": "ff4d2116",
   "metadata": {},
   "outputs": [],
   "source": [
    "# Scoring color harmony"
   ]
  },
  {
   "cell_type": "code",
   "execution_count": null,
   "id": "6740ae43",
   "metadata": {},
   "outputs": [],
   "source": [
    "# Scoring color contrast"
   ]
  }
 ],
 "metadata": {
  "kernelspec": {
   "display_name": "Python 3 (ipykernel)",
   "language": "python",
   "name": "python3"
  },
  "language_info": {
   "codemirror_mode": {
    "name": "ipython",
    "version": 3
   },
   "file_extension": ".py",
   "mimetype": "text/x-python",
   "name": "python",
   "nbconvert_exporter": "python",
   "pygments_lexer": "ipython3",
   "version": "3.9.7"
  }
 },
 "nbformat": 4,
 "nbformat_minor": 5
}
